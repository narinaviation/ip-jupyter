{
 "cells": [
  {
   "cell_type": "markdown",
   "metadata": {},
   "source": [
    "# [EXP01] Pixel-based Operation (Linear and Gamma Operations)"
   ]
  },
  {
   "cell_type": "markdown",
   "metadata": {},
   "source": [
    "## Dependencies"
   ]
  },
  {
   "cell_type": "code",
   "execution_count": null,
   "metadata": {},
   "outputs": [],
   "source": [
    "import cv2\n",
    "import numpy as np\n",
    "import matplotlib.pyplot as plt"
   ]
  },
  {
   "cell_type": "code",
   "execution_count": null,
   "metadata": {},
   "outputs": [],
   "source": [
    "%matplotlib notebook"
   ]
  },
  {
   "cell_type": "markdown",
   "metadata": {},
   "source": [
    "## Test array / Test image"
   ]
  },
  {
   "cell_type": "code",
   "execution_count": null,
   "metadata": {},
   "outputs": [],
   "source": [
    "#-- Uncomment for test array\n",
    "#img = np.array([[[120,120,120],[130,130,130],[140,140,140],[150,150,150]],\n",
    "#               [[120,120,120],[130,130,130],[140,140,140],[150,150,150]],\n",
    "#               [[120,120,120],[130,130,130],[140,140,140],[150,150,150]],\n",
    "#               [[120,120,120],[130,130,130],[140,140,140],[150,150,150]]],dtype='uint8')\n",
    "\n",
    "#-- Uncomment for test image\n",
    "img_select = 'img3.jpg'\n",
    "img = cv2.imread(img_select)\n",
    "\n",
    "img_rgb = cv2.cvtColor(img, cv2.COLOR_BGR2RGB)\n",
    "img_gray = cv2.cvtColor(img, cv2.COLOR_BGR2GRAY)\n",
    "\n",
    "plt.figure(1)\n",
    "plt.subplot(1,2,1)\n",
    "plt.title('Test image (RGB)')\n",
    "plt.imshow(img_rgb)\n",
    "plt.subplot(1,2,2)\n",
    "plt.title('Test image (Grayscale)')\n",
    "plt.imshow(img_gray,'gray',vmin=0,vmax=255)\n",
    "\n",
    "img_rows = img.shape[0]\n",
    "img_cols = img.shape[1]\n",
    "img_chs = img.shape[2]\n",
    "\n",
    "print('The test image consists of {} rows and {} columns in {} channels'.format(img_rows,img_cols,img_chs))\n",
    "print('Image size (W x H) = {} x {}'.format(img_cols,img_rows))"
   ]
  },
  {
   "cell_type": "markdown",
   "metadata": {},
   "source": [
    "# [1] \"Linear\" operation on the Grayscale image"
   ]
  },
  {
   "cell_type": "code",
   "execution_count": null,
   "metadata": {},
   "outputs": [],
   "source": [
    "# Transfer function parameters\n",
    "a = -1     #--- a : contrast (slope)\n",
    "b = 1    #--- b : translation (shifting)\n",
    "\n",
    "# Transfer function plotting\n",
    "input_axis = range(0,255)\n",
    "output_axis = []\n",
    "\n",
    "for i in input_axis:\n",
    "    output_axis.append(((a*(i/255)) + b)*255)        # NOTE THIS 255 NORMALIZATION!!!\n",
    "    \n",
    "plt.figure(2),plt.title('Transfer function')\n",
    "plt.plot(input_axis,output_axis),plt.gca().set_aspect('equal'),plt.xlim((0,255)),plt.ylim((0,255))\n",
    "\n",
    "# Apply the \"Linear\" Pixel-based operation on the image\n",
    "input_img = img_gray\n",
    "output_img = np.zeros((input_img.shape[0],input_img.shape[1]),dtype='uint8')\n",
    "\n",
    "for x in range(0,input_img.shape[0]):\n",
    "    for y in range(0,input_img.shape[1]):\n",
    "        output_value = (((a*(input_img[x][y]/255)) + b)*255)\n",
    "        if output_value > 255: output_value = 255\n",
    "        if output_value < 0: output_value = 0\n",
    "        output_img[x][y] = output_value\n",
    "        \n",
    "print('Input image values :')\n",
    "print(img_gray)\n",
    "print('')\n",
    "print('Output image values :')\n",
    "print(output_img)"
   ]
  },
  {
   "cell_type": "markdown",
   "metadata": {},
   "source": [
    "## Display the results"
   ]
  },
  {
   "cell_type": "code",
   "execution_count": null,
   "metadata": {},
   "outputs": [],
   "source": [
    "plt.figure(3)\n",
    "\n",
    "plt.subplot(2,2,1),plt.title('Input image')\n",
    "plt.imshow(input_img,'gray',vmin=0,vmax=255)\n",
    "\n",
    "plt.subplot(2,2,2),plt.title('Output image')\n",
    "plt.imshow(output_img,'gray',vmin=0,vmax=255)\n",
    "\n",
    "plt.subplot(2,2,3),plt.title('Input histogram')\n",
    "plt.hist(input_img.ravel(),256,[0,256]),plt.colorbar(orientation='horizontal');\n",
    "\n",
    "plt.subplot(2,2,4),plt.title('Output histogram')\n",
    "plt.hist(output_img.ravel(),256,[0,256]),plt.colorbar(orientation='horizontal');"
   ]
  },
  {
   "cell_type": "markdown",
   "metadata": {},
   "source": [
    "# [2] \"Gamma\" operation on the Grayscale image"
   ]
  },
  {
   "cell_type": "code",
   "execution_count": null,
   "metadata": {},
   "outputs": [],
   "source": [
    "# Transfer function parameters\n",
    "a = 1      #--- a : contrast (slope)\n",
    "b = 0      #--- b : translation (shifting)\n",
    "gamma = 2  #--- gamma : it's gamma, ok?\n",
    "\n",
    "# Transfer function plotting\n",
    "input_axis = range(0,255)\n",
    "output_axis = []\n",
    "\n",
    "for i in input_axis:\n",
    "    output_axis.append(a*(np.power((i/255),gamma) + b)*255)     # NOTE THIS 255 NORMALIZATION!!!\n",
    "    \n",
    "plt.figure(4),plt.title('Transfer function (gamma = {})'.format(gamma))\n",
    "plt.plot(input_axis,output_axis),plt.gca().set_aspect('equal'),plt.xlim((0,255)),plt.ylim((0,255))\n",
    "\n",
    "# Apply the \"Gamma\" Pixel-based operation on the image\n",
    "input_img = img_gray\n",
    "output_img = np.zeros((input_img.shape[0],input_img.shape[1]),dtype='uint8')\n",
    "\n",
    "for x in range(0,input_img.shape[0]):\n",
    "    for y in range(0,input_img.shape[1]):\n",
    "        output_value = a*(np.power((input_img[x][y]/255),gamma) + b)*255\n",
    "        if output_value > 255: output_value = 255\n",
    "        if output_value < 0: output_value = 0\n",
    "        output_img[x][y] = output_value\n",
    "        \n",
    "print('Input image values :')\n",
    "print(img_gray)\n",
    "print('')\n",
    "print('Output image values :')\n",
    "print(output_img)"
   ]
  },
  {
   "cell_type": "markdown",
   "metadata": {},
   "source": [
    "## Display the results"
   ]
  },
  {
   "cell_type": "code",
   "execution_count": null,
   "metadata": {},
   "outputs": [],
   "source": [
    "plt.figure(5)\n",
    "\n",
    "plt.subplot(2,2,1),plt.title('Input image')\n",
    "plt.imshow(input_img,'gray',vmin=0,vmax=255)\n",
    "\n",
    "plt.subplot(2,2,2),plt.title('Output image')\n",
    "plt.imshow(output_img,'gray',vmin=0,vmax=255)\n",
    "\n",
    "plt.subplot(2,2,3),plt.title('Input histogram')\n",
    "plt.hist(input_img.ravel(),256,[0,256]),plt.colorbar(orientation='horizontal');\n",
    "\n",
    "plt.subplot(2,2,4),plt.title('Output histogram')\n",
    "plt.hist(output_img.ravel(),256,[0,256]),plt.colorbar(orientation='horizontal');"
   ]
  }
 ],
 "metadata": {
  "kernelspec": {
   "display_name": "Python 3",
   "language": "python",
   "name": "python3"
  },
  "language_info": {
   "codemirror_mode": {
    "name": "ipython",
    "version": 3
   },
   "file_extension": ".py",
   "mimetype": "text/x-python",
   "name": "python",
   "nbconvert_exporter": "python",
   "pygments_lexer": "ipython3",
   "version": "3.7.4"
  }
 },
 "nbformat": 4,
 "nbformat_minor": 2
}
