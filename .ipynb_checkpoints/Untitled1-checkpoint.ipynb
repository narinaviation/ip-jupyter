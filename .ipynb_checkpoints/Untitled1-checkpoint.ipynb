{
 "cells": [
  {
   "cell_type": "code",
   "execution_count": 29,
   "metadata": {},
   "outputs": [],
   "source": [
    "import numpy as np\n",
    "import cv2\n",
    "\n",
    "cap = cv2.VideoCapture(0)\n",
    "\n",
    "while(True):\n",
    "    ret, frame = cap.read()\n",
    "    img = cv2.cvtColor(frame, cv2.COLOR_BGR2HSV)\n",
    "\n",
    "    red_points   = np.sum(np.logical_and(np.logical_or(img[:,:,0] < 30,img[:,:,0] > 135),img[:,:,1] > 100))\n",
    "    green_points = np.sum(np.logical_and(img[:,:,0] >= 30,img[:,:,0] < 90))\n",
    "    blue_points  = np.sum(np.logical_and(img[:,:,0] >= 90,img[:,:,0] < 135))\n",
    "    \n",
    "    cv2.rectangle(frame, (40,10), (290,220), (255,255,255), cv2.FILLED)\n",
    "\n",
    "    outputString1 = \"R : {}\".format(red_points)\n",
    "    outputString2 = \"G : {}\".format(green_points)\n",
    "    outputString3 = \"B : {}\".format(blue_points)\n",
    "    \n",
    "    cv2.putText(frame, outputString1, (50,50), cv2.FONT_HERSHEY_SIMPLEX , 1, (0,0,255),2)  \n",
    "    cv2.putText(frame, outputString2, (50,100), cv2.FONT_HERSHEY_SIMPLEX , 1, (0,255,0),2)\n",
    "    cv2.putText(frame, outputString3, (50,150), cv2.FONT_HERSHEY_SIMPLEX , 1, (255,0,0),2)\n",
    "    \n",
    "    cmax = np.argmax([red_points,green_points,blue_points])\n",
    "    \n",
    "    if(red_points > 80000 or green_points > 70000 or blue_points > 100000):\n",
    "        if(cmax==0):\n",
    "            cv2.putText(frame, \"Object : Red\", (50,200), cv2.FONT_HERSHEY_SIMPLEX , 1, (0,0,255),2)\n",
    "        if(cmax==1):\n",
    "            cv2.putText(frame, \"Object : Green\", (50,200), cv2.FONT_HERSHEY_SIMPLEX , 1, (0,255,0),2)\n",
    "        if(cmax==2):\n",
    "            cv2.putText(frame, \"Object : Blue\", (50,200), cv2.FONT_HERSHEY_SIMPLEX , 1, (255,0,0),2)\n",
    "    \n",
    "    cv2.imshow('frame',frame)\n",
    "    if cv2.waitKey(1) & 0xFF == ord('q'):\n",
    "        break\n",
    "    \n",
    "cap.release()\n",
    "cv2.destroyAllWindows()"
   ]
  },
  {
   "cell_type": "code",
   "execution_count": null,
   "metadata": {},
   "outputs": [],
   "source": []
  }
 ],
 "metadata": {
  "kernelspec": {
   "display_name": "Python 3",
   "language": "python",
   "name": "python3"
  },
  "language_info": {
   "codemirror_mode": {
    "name": "ipython",
    "version": 3
   },
   "file_extension": ".py",
   "mimetype": "text/x-python",
   "name": "python",
   "nbconvert_exporter": "python",
   "pygments_lexer": "ipython3",
   "version": "3.7.4"
  }
 },
 "nbformat": 4,
 "nbformat_minor": 2
}
